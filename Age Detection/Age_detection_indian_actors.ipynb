{
 "cells": [
  {
   "cell_type": "code",
   "execution_count": 1,
   "id": "sixth-therapist",
   "metadata": {},
   "outputs": [],
   "source": [
    "import numpy as np\n",
    "import matplotlib.pyplot as plt\n",
    "import pandas as pd\n",
    "from scipy.misc import *\n",
    "%matplotlib inline\n",
    "\n",
    "\n",
    "import os,sys\n",
    "from PIL import Image\n",
    "import cv2 #OpenCV library\n",
    "from tqdm import tqdm"
   ]
  },
  {
   "cell_type": "code",
   "execution_count": 2,
   "id": "joined-joseph",
   "metadata": {},
   "outputs": [],
   "source": [
    "DATA_HOME_DIR = os.getcwd()"
   ]
  },
  {
   "cell_type": "code",
   "execution_count": 3,
   "id": "corrected-concentration",
   "metadata": {},
   "outputs": [
    {
     "data": {
      "text/plain": [
       "'/Users/nbhadra/Downloads/Computational/Phenotype_trajectory/Codes/Github_repo_Nivedita/Age-Detection-of-Indian-Actors-master 2'"
      ]
     },
     "execution_count": 3,
     "metadata": {},
     "output_type": "execute_result"
    },
    {
     "data": {
      "text/plain": [
       "'/Users/nbhadra/Downloads/Computational/Phenotype_trajectory/Codes/Github_repo_Nivedita/Age-Detection-of-Indian-Actors-master 2'"
      ]
     },
     "execution_count": 3,
     "metadata": {},
     "output_type": "execute_result"
    }
   ],
   "source": [
    "%pwd"
   ]
  },
  {
   "cell_type": "code",
   "execution_count": 4,
   "id": "thirty-passion",
   "metadata": {},
   "outputs": [
    {
     "name": "stdout",
     "output_type": "stream",
     "text": [
      "Age_detection_indian_actors.ipynb\n",
      "Keras_CNN_Age_Detection.ipynb\n",
      "Keras_CNN_Age_Detection_Improved.ipynb\n",
      "README.md\n",
      "ResNet+LRScheduleOnSGD(ExpDecay)+HalfPrecision.ipynb\n",
      "Sample_Submission.csv\n",
      "\u001b[34mTest\u001b[m\u001b[m/\n",
      "\u001b[34mTrain\u001b[m\u001b[m/\n",
      "TrainingWithFastai.ipynb\n",
      "age-detection_weights.h5\n",
      "\u001b[34mdataset\u001b[m\u001b[m/\n",
      "initial_weights.h5\n",
      "leakyReLU_age-detection_weights.h5\n",
      "\u001b[34msub\u001b[m\u001b[m/\n",
      "sub.csv\n",
      "sub03_2_leakyReLU.csv\n",
      "test.csv\n",
      "train.csv\n",
      "Age_detection_indian_actors.ipynb\n",
      "Keras_CNN_Age_Detection.ipynb\n",
      "Keras_CNN_Age_Detection_Improved.ipynb\n",
      "README.md\n",
      "ResNet+LRScheduleOnSGD(ExpDecay)+HalfPrecision.ipynb\n",
      "Sample_Submission.csv\n",
      "\u001b[34mTest\u001b[m\u001b[m/\n",
      "\u001b[34mTrain\u001b[m\u001b[m/\n",
      "TrainingWithFastai.ipynb\n",
      "age-detection_weights.h5\n",
      "\u001b[34mdataset\u001b[m\u001b[m/\n",
      "initial_weights.h5\n",
      "leakyReLU_age-detection_weights.h5\n",
      "\u001b[34msub\u001b[m\u001b[m/\n",
      "sub.csv\n",
      "sub03_2_leakyReLU.csv\n",
      "test.csv\n",
      "train.csv\n"
     ]
    }
   ],
   "source": [
    "%ls"
   ]
  },
  {
   "cell_type": "code",
   "execution_count": 5,
   "id": "official-drain",
   "metadata": {},
   "outputs": [],
   "source": [
    "\n",
    "train = pd.read_csv('train.csv')\n",
    "test = pd.read_csv('test.csv')"
   ]
  },
  {
   "cell_type": "code",
   "execution_count": 6,
   "id": "cardiac-upset",
   "metadata": {},
   "outputs": [],
   "source": [
    "TRAIN_PATH = DATA_HOME_DIR + '/Train/'\n",
    "TEST_PATH = DATA_HOME_DIR + '/Test/'"
   ]
  },
  {
   "cell_type": "code",
   "execution_count": 7,
   "id": "special-bullet",
   "metadata": {},
   "outputs": [],
   "source": [
    "# function to read images as arrays\n",
    "def read_image(img_path, mode = 'color', resize = False, size = 32):\n",
    "    '''\n",
    "    Default mode is : color(BGR) --> color(RGB)\n",
    "    Other modes allowed are : 'grayscale' and 'include_opacity'\n",
    "    '''\n",
    "    if mode == 'grayscale':\n",
    "        img = cv2.imread(img_path, cv2.IMREAD_GRAYSCALE)\n",
    "    elif mode == 'include_opacity':\n",
    "        img = cv2.imread(img_path, cv2.IMREAD_UNCHANGED)\n",
    "    else:\n",
    "        img = cv2.imread(img_path, cv2.IMREAD_COLOR)\n",
    "        img = cv2.cvtColor(img, cv2.COLOR_BGR2RGB)\n",
    "    \n",
    "    if resize == True:\n",
    "        img = cv2.resize(img, (size, size))\n",
    "    \n",
    "    return img"
   ]
  },
  {
   "cell_type": "code",
   "execution_count": 8,
   "id": "increasing-bridge",
   "metadata": {},
   "outputs": [
    {
     "name": "stderr",
     "output_type": "stream",
     "text": [
      "100%|██████████| 19906/19906 [00:31<00:00, 624.42it/s]\n",
      "  0%|          | 0/6636 [00:00<?, ?it/s]\n",
      "100%|██████████| 6636/6636 [00:07<00:00, 930.98it/s] \n",
      "\n"
     ]
    }
   ],
   "source": [
    "## Storing all images as list of arrays\n",
    "train_data = []\n",
    "test_data = []\n",
    "\n",
    "for img in tqdm(train['ID'].values):\n",
    "    train_data.append(read_image(TRAIN_PATH + '{}'.format(img), resize = True, size = 32))\n",
    "    \n",
    "for img in tqdm(test['ID'].values):\n",
    "    test_data.append(read_image(TEST_PATH + '{}'.format(img), resize = True, size = 32))"
   ]
  },
  {
   "cell_type": "code",
   "execution_count": 9,
   "id": "likely-capitol",
   "metadata": {},
   "outputs": [],
   "source": [
    "y_train = train['Class'].values\n"
   ]
  },
  {
   "cell_type": "code",
   "execution_count": 10,
   "id": "requested-bermuda",
   "metadata": {},
   "outputs": [],
   "source": [
    "## Checking dimensions and aspect ratio of original images (without resizing)\n",
    "rows = [x.shape[0] for x in (train_data+test_data)]\n",
    "cols = [x.shape[1] for x in (train_data+test_data)]\n",
    "channels = [x.shape[2] for x in (train_data+test_data)]\n",
    "aspect_ratio = [x.shape[0]/x.shape[1] for x in (train_data+test_data)]"
   ]
  },
  {
   "cell_type": "code",
   "execution_count": 11,
   "id": "reserved-ethics",
   "metadata": {},
   "outputs": [
    {
     "name": "stdout",
     "output_type": "stream",
     "text": [
      "Min. and Max. rows = 32 and 32 respectively \n",
      "Min. and Max. cols = 32 and 32 respectively \n",
      "Min. and Max. channels = 3 and 3 respectively \n",
      "Min. and Max. aspect ratio = 1.0 and 1.0 respectively \n",
      "\n",
      "Min. and Max. rows = 32 and 32 respectively \n",
      "Min. and Max. cols = 32 and 32 respectively \n",
      "Min. and Max. channels = 3 and 3 respectively \n",
      "Min. and Max. aspect ratio = 1.0 and 1.0 respectively \n",
      "\n"
     ]
    }
   ],
   "source": [
    "## Checking range of the dimesnions and aspect ratio\n",
    "print(\"Min. and Max. rows = {} and {} respectively \\nMin. and Max. cols = {} and {} respectively \\nMin. and Max. channels = {} and {} respectively \\nMin. and Max. aspect ratio = {} and {} respectively \\n\"\n",
    "      .format(min(rows), max(rows), min(cols), max(cols), min(channels), max(channels), min(aspect_ratio), max(aspect_ratio)))\n"
   ]
  },
  {
   "cell_type": "code",
   "execution_count": 12,
   "id": "increased-provision",
   "metadata": {},
   "outputs": [
    {
     "data": {
      "text/html": [
       "<div>\n",
       "<style scoped>\n",
       "    .dataframe tbody tr th:only-of-type {\n",
       "        vertical-align: middle;\n",
       "    }\n",
       "\n",
       "    .dataframe tbody tr th {\n",
       "        vertical-align: top;\n",
       "    }\n",
       "\n",
       "    .dataframe thead th {\n",
       "        text-align: right;\n",
       "    }\n",
       "</style>\n",
       "<table border=\"1\" class=\"dataframe\">\n",
       "  <thead>\n",
       "    <tr style=\"text-align: right;\">\n",
       "      <th></th>\n",
       "      <th>ID</th>\n",
       "    </tr>\n",
       "    <tr>\n",
       "      <th>Class</th>\n",
       "      <th></th>\n",
       "    </tr>\n",
       "  </thead>\n",
       "  <tbody>\n",
       "    <tr>\n",
       "      <th>MIDDLE</th>\n",
       "      <td>10804</td>\n",
       "    </tr>\n",
       "    <tr>\n",
       "      <th>OLD</th>\n",
       "      <td>2396</td>\n",
       "    </tr>\n",
       "    <tr>\n",
       "      <th>YOUNG</th>\n",
       "      <td>6706</td>\n",
       "    </tr>\n",
       "  </tbody>\n",
       "</table>\n",
       "</div>"
      ],
      "text/plain": [
       "           ID\n",
       "Class        \n",
       "MIDDLE  10804\n",
       "OLD      2396\n",
       "YOUNG    6706"
      ]
     },
     "execution_count": 12,
     "metadata": {},
     "output_type": "execute_result"
    },
    {
     "data": {
      "text/html": [
       "<div>\n",
       "<style scoped>\n",
       "    .dataframe tbody tr th:only-of-type {\n",
       "        vertical-align: middle;\n",
       "    }\n",
       "\n",
       "    .dataframe tbody tr th {\n",
       "        vertical-align: top;\n",
       "    }\n",
       "\n",
       "    .dataframe thead th {\n",
       "        text-align: right;\n",
       "    }\n",
       "</style>\n",
       "<table border=\"1\" class=\"dataframe\">\n",
       "  <thead>\n",
       "    <tr style=\"text-align: right;\">\n",
       "      <th></th>\n",
       "      <th>ID</th>\n",
       "    </tr>\n",
       "    <tr>\n",
       "      <th>Class</th>\n",
       "      <th></th>\n",
       "    </tr>\n",
       "  </thead>\n",
       "  <tbody>\n",
       "    <tr>\n",
       "      <th>MIDDLE</th>\n",
       "      <td>10804</td>\n",
       "    </tr>\n",
       "    <tr>\n",
       "      <th>OLD</th>\n",
       "      <td>2396</td>\n",
       "    </tr>\n",
       "    <tr>\n",
       "      <th>YOUNG</th>\n",
       "      <td>6706</td>\n",
       "    </tr>\n",
       "  </tbody>\n",
       "</table>\n",
       "</div>"
      ],
      "text/plain": [
       "           ID\n",
       "Class        \n",
       "MIDDLE  10804\n",
       "OLD      2396\n",
       "YOUNG    6706"
      ]
     },
     "execution_count": 12,
     "metadata": {},
     "output_type": "execute_result"
    }
   ],
   "source": [
    "train.groupby(by = \"Class\").count()\n"
   ]
  },
  {
   "cell_type": "code",
   "execution_count": 13,
   "id": "sonic-webmaster",
   "metadata": {},
   "outputs": [
    {
     "name": "stdout",
     "output_type": "stream",
     "text": [
      "Age_detection_indian_actors.ipynb\n",
      "Keras_CNN_Age_Detection.ipynb\n",
      "Keras_CNN_Age_Detection_Improved.ipynb\n",
      "README.md\n",
      "ResNet+LRScheduleOnSGD(ExpDecay)+HalfPrecision.ipynb\n",
      "Sample_Submission.csv\n",
      "\u001b[34mTest\u001b[m\u001b[m/\n",
      "\u001b[34mTrain\u001b[m\u001b[m/\n",
      "TrainingWithFastai.ipynb\n",
      "age-detection_weights.h5\n",
      "\u001b[34mdataset\u001b[m\u001b[m/\n",
      "initial_weights.h5\n",
      "leakyReLU_age-detection_weights.h5\n",
      "\u001b[34msub\u001b[m\u001b[m/\n",
      "sub.csv\n",
      "sub03_2_leakyReLU.csv\n",
      "test.csv\n",
      "train.csv\n",
      "Age_detection_indian_actors.ipynb\n",
      "Keras_CNN_Age_Detection.ipynb\n",
      "Keras_CNN_Age_Detection_Improved.ipynb\n",
      "README.md\n",
      "ResNet+LRScheduleOnSGD(ExpDecay)+HalfPrecision.ipynb\n",
      "Sample_Submission.csv\n",
      "\u001b[34mTest\u001b[m\u001b[m/\n",
      "\u001b[34mTrain\u001b[m\u001b[m/\n",
      "TrainingWithFastai.ipynb\n",
      "age-detection_weights.h5\n",
      "\u001b[34mdataset\u001b[m\u001b[m/\n",
      "initial_weights.h5\n",
      "leakyReLU_age-detection_weights.h5\n",
      "\u001b[34msub\u001b[m\u001b[m/\n",
      "sub.csv\n",
      "sub03_2_leakyReLU.csv\n",
      "test.csv\n",
      "train.csv\n"
     ]
    }
   ],
   "source": [
    "%ls"
   ]
  },
  {
   "cell_type": "code",
   "execution_count": 14,
   "id": "realistic-composition",
   "metadata": {},
   "outputs": [
    {
     "data": {
      "text/plain": [
       "<matplotlib.image.AxesImage at 0x7fd8058ba290>"
      ]
     },
     "execution_count": 14,
     "metadata": {},
     "output_type": "execute_result"
    },
    {
     "data": {
      "text/plain": [
       "<matplotlib.image.AxesImage at 0x7fd8058ba290>"
      ]
     },
     "execution_count": 14,
     "metadata": {},
     "output_type": "execute_result"
    },
    {
     "data": {
      "image/png": "[encoded data removed]",
      "text/plain": [
       "<Figure size 432x288 with 1 Axes>"
      ]
     },
     "metadata": {
      "needs_background": "light"
     },
     "output_type": "display_data"
    },
    {
     "data": {
      "image/png": "[encoded data removed]",
      "text/plain": [
       "<Figure size 432x288 with 1 Axes>"
      ]
     },
     "metadata": {
      "needs_background": "light"
     },
     "output_type": "display_data"
    }
   ],
   "source": [
    "## Displaying random images without resizing\n",
    "i = np.random.choice(np.arange(len(train_data)))\n",
    "\n",
    "plt.title('{} - {} ; shape : {}'.format(train['ID'].values[i], y_train[i], train_data[i].shape))\n",
    "plt.imshow(train_data[i])"
   ]
  },
  {
   "cell_type": "code",
   "execution_count": 15,
   "id": "frozen-stick",
   "metadata": {},
   "outputs": [],
   "source": [
    "## Scaling the images\n",
    "X_train = np.array(train_data, np.float32) / 255.\n",
    "X_test = np.array(test_data, np.float32) / 255."
   ]
  },
  {
   "cell_type": "code",
   "execution_count": 16,
   "id": "ready-stranger",
   "metadata": {},
   "outputs": [],
   "source": [
    "# Encoding image labels into target variables (categorical)\n",
    "from sklearn.preprocessing import LabelEncoder,OneHotEncoder\n",
    "le = LabelEncoder()\n",
    "y_train = le.fit_transform(y_train)\n",
    "\n",
    "ohe = OneHotEncoder()\n",
    "y_train = ohe.fit_transform(y_train.reshape(-1,1)).toarray()"
   ]
  },
  {
   "cell_type": "code",
   "execution_count": 17,
   "id": "strategic-brake",
   "metadata": {},
   "outputs": [
    {
     "data": {
      "text/plain": [
       "(19906, 3)"
      ]
     },
     "execution_count": 17,
     "metadata": {},
     "output_type": "execute_result"
    },
    {
     "data": {
      "text/plain": [
       "(19906, 3)"
      ]
     },
     "execution_count": 17,
     "metadata": {},
     "output_type": "execute_result"
    }
   ],
   "source": [
    "y_train.shape\n"
   ]
  },
  {
   "cell_type": "code",
   "execution_count": 18,
   "id": "classical-airplane",
   "metadata": {},
   "outputs": [],
   "source": [
    "# Importing the Keras libraries and packages\n",
    "import keras\n",
    "from keras.models import Sequential, Model\n",
    "from keras.layers import *\n",
    "from keras.layers.advanced_activations import PReLU, LeakyReLU, ELU\n",
    "from keras.optimizers import SGD\n",
    "from keras.constraints import maxnorm\n",
    "\n",
    "from keras import backend as K\n",
    "#K.set_image_dim_ordering('tf')\n",
    "\n",
    "from keras.preprocessing import image"
   ]
  },
  {
   "cell_type": "code",
   "execution_count": 19,
   "id": "handled-programming",
   "metadata": {},
   "outputs": [],
   "source": [
    "\n",
    "#os.environ['KERAS_BACKEND'] = 'theano'\n",
    "#reload(K)"
   ]
  },
  {
   "cell_type": "code",
   "execution_count": 20,
   "id": "fiscal-accounting",
   "metadata": {},
   "outputs": [],
   "source": [
    "        \n",
    "model = Sequential([\n",
    "        BatchNormalization(input_shape = (32,32,3)),\n",
    "        Convolution2D(32,(3,3), activation='relu'),\n",
    "        BatchNormalization(),\n",
    "        Convolution2D(32,(3,3), activation='relu'),\n",
    "        BatchNormalization(),\n",
    "        MaxPooling2D(),\n",
    "        Convolution2D(64,(3,3), activation='relu'),\n",
    "        BatchNormalization(),\n",
    "        Convolution2D(64,(3,3), activation='relu'),\n",
    "        BatchNormalization(),\n",
    "        MaxPooling2D(),\n",
    "        Flatten(),\n",
    "        Dropout(0.3),\n",
    "        Dense(384, activation='relu'),\n",
    "        Dropout(0.6),\n",
    "        Dense(3, activation='softmax')\n",
    "        ])\n",
    "model.compile(optimizer = 'adam' , loss='categorical_crossentropy', metrics=['accuracy'])"
   ]
  },
  {
   "cell_type": "code",
   "execution_count": 21,
   "id": "satisfactory-ozone",
   "metadata": {},
   "outputs": [],
   "source": [
    "## Saving initial un-trained weights for future use\n",
    "model.save_weights('initial_weights.h5')"
   ]
  },
  {
   "cell_type": "code",
   "execution_count": 22,
   "id": "ethical-inspiration",
   "metadata": {},
   "outputs": [
    {
     "name": "stdout",
     "output_type": "stream",
     "text": [
      "Model: \"sequential\"\n",
      "_________________________________________________________________\n",
      "Layer (type)                 Output Shape              Param #   \n",
      "=================================================================\n",
      "batch_normalization (BatchNo (None, 32, 32, 3)         12        \n",
      "_________________________________________________________________\n",
      "conv2d (Conv2D)              (None, 30, 30, 32)        896       \n",
      "_________________________________________________________________\n",
      "batch_normalization_1 (Batch (None, 30, 30, 32)        128       \n",
      "_________________________________________________________________\n",
      "conv2d_1 (Conv2D)            (None, 28, 28, 32)        9248      \n",
      "_________________________________________________________________\n",
      "batch_normalization_2 (Batch (None, 28, 28, 32)        128       \n",
      "_________________________________________________________________\n",
      "max_pooling2d (MaxPooling2D) (None, 14, 14, 32)        0         \n",
      "_________________________________________________________________\n",
      "conv2d_2 (Conv2D)            (None, 12, 12, 64)        18496     \n",
      "_________________________________________________________________\n",
      "batch_normalization_3 (Batch (None, 12, 12, 64)        256       \n",
      "_________________________________________________________________\n",
      "conv2d_3 (Conv2D)            (None, 10, 10, 64)        36928     \n",
      "_________________________________________________________________\n",
      "batch_normalization_4 (Batch (None, 10, 10, 64)        256       \n",
      "_________________________________________________________________\n",
      "max_pooling2d_1 (MaxPooling2 (None, 5, 5, 64)          0         \n",
      "_________________________________________________________________\n",
      "flatten (Flatten)            (None, 1600)              0         \n",
      "_________________________________________________________________\n",
      "dropout (Dropout)            (None, 1600)              0         \n",
      "_________________________________________________________________\n",
      "dense (Dense)                (None, 384)               614784    \n",
      "_________________________________________________________________\n",
      "dropout_1 (Dropout)          (None, 384)               0         \n",
      "_________________________________________________________________\n",
      "dense_1 (Dense)              (None, 3)                 1155      \n",
      "=================================================================\n",
      "Total params: 682,287\n",
      "Trainable params: 681,897\n",
      "Non-trainable params: 390\n",
      "_________________________________________________________________\n",
      "Model: \"sequential\"\n",
      "_________________________________________________________________\n",
      "Layer (type)                 Output Shape              Param #   \n",
      "=================================================================\n",
      "batch_normalization (BatchNo (None, 32, 32, 3)         12        \n",
      "_________________________________________________________________\n",
      "conv2d (Conv2D)              (None, 30, 30, 32)        896       \n",
      "_________________________________________________________________\n",
      "batch_normalization_1 (Batch (None, 30, 30, 32)        128       \n",
      "_________________________________________________________________\n",
      "conv2d_1 (Conv2D)            (None, 28, 28, 32)        9248      \n",
      "_________________________________________________________________\n",
      "batch_normalization_2 (Batch (None, 28, 28, 32)        128       \n",
      "_________________________________________________________________\n",
      "max_pooling2d (MaxPooling2D) (None, 14, 14, 32)        0         \n",
      "_________________________________________________________________\n",
      "conv2d_2 (Conv2D)            (None, 12, 12, 64)        18496     \n",
      "_________________________________________________________________\n",
      "batch_normalization_3 (Batch (None, 12, 12, 64)        256       \n",
      "_________________________________________________________________\n",
      "conv2d_3 (Conv2D)            (None, 10, 10, 64)        36928     \n",
      "_________________________________________________________________\n",
      "batch_normalization_4 (Batch (None, 10, 10, 64)        256       \n",
      "_________________________________________________________________\n",
      "max_pooling2d_1 (MaxPooling2 (None, 5, 5, 64)          0         \n",
      "_________________________________________________________________\n",
      "flatten (Flatten)            (None, 1600)              0         \n",
      "_________________________________________________________________\n",
      "dropout (Dropout)            (None, 1600)              0         \n",
      "_________________________________________________________________\n",
      "dense (Dense)                (None, 384)               614784    \n",
      "_________________________________________________________________\n",
      "dropout_1 (Dropout)          (None, 384)               0         \n",
      "_________________________________________________________________\n",
      "dense_1 (Dense)              (None, 3)                 1155      \n",
      "=================================================================\n",
      "Total params: 682,287\n",
      "Trainable params: 681,897\n",
      "Non-trainable params: 390\n",
      "_________________________________________________________________\n"
     ]
    }
   ],
   "source": [
    "model.summary()"
   ]
  },
  {
   "cell_type": "code",
   "execution_count": 23,
   "id": "armed-norwegian",
   "metadata": {},
   "outputs": [],
   "source": [
    "model = Sequential([\n",
    "        BatchNormalization(input_shape = (128,128,3)),\n",
    "        Convolution2D(32,(3,3), activation='relu'),\n",
    "        BatchNormalization(),\n",
    "        Convolution2D(32,(3,3), activation='relu'),\n",
    "        BatchNormalization(),\n",
    "        MaxPooling2D(),\n",
    "        Convolution2D(64,(3,3), activation='relu'),\n",
    "        BatchNormalization(),\n",
    "        Convolution2D(64,(3,3), activation='relu'),\n",
    "        BatchNormalization(),\n",
    "        MaxPooling2D(),\n",
    "        Convolution2D(64,(3,3), activation='relu'),\n",
    "        BatchNormalization(),\n",
    "        MaxPooling2D(),\n",
    "        Convolution2D(64,(3,3), activation='relu'),\n",
    "        BatchNormalization(),\n",
    "        MaxPooling2D(),\n",
    "        Flatten(),\n",
    "        Dropout(0.3),\n",
    "        Dense(512, activation='relu'),\n",
    "        Dropout(0.6),\n",
    "        Dense(3, activation='softmax')\n",
    "        ])\n",
    "model.compile(optimizer = 'adam' , loss='categorical_crossentropy', metrics=['accuracy'])"
   ]
  },
  {
   "cell_type": "code",
   "execution_count": 24,
   "id": "consecutive-timothy",
   "metadata": {},
   "outputs": [],
   "source": [
    "## Saving initial un-trained weights for future use\n",
    "model.save_weights('initial_weights.h5')"
   ]
  },
  {
   "cell_type": "code",
   "execution_count": 25,
   "id": "caring-chester",
   "metadata": {},
   "outputs": [],
   "source": [
    "\n",
    "model = Sequential([\n",
    "        BatchNormalization(input_shape = (32,32,3)),\n",
    "        Convolution2D(32,(3,3), activation='linear'),\n",
    "        LeakyReLU(alpha = 0.3),\n",
    "        BatchNormalization(),\n",
    "        Convolution2D(32,(3,3), activation='linear'),\n",
    "        LeakyReLU(alpha = 0.3),\n",
    "        BatchNormalization(),\n",
    "        MaxPooling2D(),\n",
    "        Convolution2D(64,(3,3), activation='linear'),\n",
    "        LeakyReLU(alpha = 0.3),\n",
    "        BatchNormalization(),\n",
    "        Convolution2D(64,(3,3), activation='linear'),\n",
    "        LeakyReLU(alpha = 0.3),\n",
    "        BatchNormalization(),\n",
    "        MaxPooling2D(),\n",
    "        Flatten(),\n",
    "        Dropout(0.3),\n",
    "        Dense(384, activation='linear'),\n",
    "        LeakyReLU(alpha = 0.3),\n",
    "        Dropout(0.6),\n",
    "        Dense(3, activation='softmax')\n",
    "        ])\n",
    "model.compile(optimizer = 'adam' , loss='categorical_crossentropy', metrics=['accuracy'])"
   ]
  },
  {
   "cell_type": "code",
   "execution_count": 26,
   "id": "complex-chemical",
   "metadata": {},
   "outputs": [],
   "source": [
    "\n",
    "## Saving initial un-trained weights for future use\n",
    "model.save_weights('initial_weights.h5')"
   ]
  },
  {
   "cell_type": "code",
   "execution_count": 27,
   "id": "civilian-trail",
   "metadata": {},
   "outputs": [
    {
     "name": "stdout",
     "output_type": "stream",
     "text": [
      "Model: \"sequential_2\"\n",
      "_________________________________________________________________\n",
      "Layer (type)                 Output Shape              Param #   \n",
      "=================================================================\n",
      "batch_normalization_12 (Batc (None, 32, 32, 3)         12        \n",
      "_________________________________________________________________\n",
      "conv2d_10 (Conv2D)           (None, 30, 30, 32)        896       \n",
      "_________________________________________________________________\n",
      "leaky_re_lu (LeakyReLU)      (None, 30, 30, 32)        0         \n",
      "_________________________________________________________________\n",
      "batch_normalization_13 (Batc (None, 30, 30, 32)        128       \n",
      "_________________________________________________________________\n",
      "conv2d_11 (Conv2D)           (None, 28, 28, 32)        9248      \n",
      "_________________________________________________________________\n",
      "leaky_re_lu_1 (LeakyReLU)    (None, 28, 28, 32)        0         \n",
      "_________________________________________________________________\n",
      "batch_normalization_14 (Batc (None, 28, 28, 32)        128       \n",
      "_________________________________________________________________\n",
      "max_pooling2d_6 (MaxPooling2 (None, 14, 14, 32)        0         \n",
      "_________________________________________________________________\n",
      "conv2d_12 (Conv2D)           (None, 12, 12, 64)        18496     \n",
      "_________________________________________________________________\n",
      "leaky_re_lu_2 (LeakyReLU)    (None, 12, 12, 64)        0         \n",
      "_________________________________________________________________\n",
      "batch_normalization_15 (Batc (None, 12, 12, 64)        256       \n",
      "_________________________________________________________________\n",
      "conv2d_13 (Conv2D)           (None, 10, 10, 64)        36928     \n",
      "_________________________________________________________________\n",
      "leaky_re_lu_3 (LeakyReLU)    (None, 10, 10, 64)        0         \n",
      "_________________________________________________________________\n",
      "batch_normalization_16 (Batc (None, 10, 10, 64)        256       \n",
      "_________________________________________________________________\n",
      "max_pooling2d_7 (MaxPooling2 (None, 5, 5, 64)          0         \n",
      "_________________________________________________________________\n",
      "flatten_2 (Flatten)          (None, 1600)              0         \n",
      "_________________________________________________________________\n",
      "dropout_4 (Dropout)          (None, 1600)              0         \n",
      "_________________________________________________________________\n",
      "dense_4 (Dense)              (None, 384)               614784    \n",
      "_________________________________________________________________\n",
      "leaky_re_lu_4 (LeakyReLU)    (None, 384)               0         \n",
      "_________________________________________________________________\n",
      "dropout_5 (Dropout)          (None, 384)               0         \n",
      "_________________________________________________________________\n",
      "dense_5 (Dense)              (None, 3)                 1155      \n",
      "=================================================================\n",
      "Total params: 682,287\n",
      "Trainable params: 681,897\n",
      "Non-trainable params: 390\n",
      "_________________________________________________________________\n",
      "Model: \"sequential_2\"\n",
      "_________________________________________________________________\n",
      "Layer (type)                 Output Shape              Param #   \n",
      "=================================================================\n",
      "batch_normalization_12 (Batc (None, 32, 32, 3)         12        \n",
      "_________________________________________________________________\n",
      "conv2d_10 (Conv2D)           (None, 30, 30, 32)        896       \n",
      "_________________________________________________________________\n",
      "leaky_re_lu (LeakyReLU)      (None, 30, 30, 32)        0         \n",
      "_________________________________________________________________\n",
      "batch_normalization_13 (Batc (None, 30, 30, 32)        128       \n",
      "_________________________________________________________________\n",
      "conv2d_11 (Conv2D)           (None, 28, 28, 32)        9248      \n",
      "_________________________________________________________________\n",
      "leaky_re_lu_1 (LeakyReLU)    (None, 28, 28, 32)        0         \n",
      "_________________________________________________________________\n",
      "batch_normalization_14 (Batc (None, 28, 28, 32)        128       \n",
      "_________________________________________________________________\n",
      "max_pooling2d_6 (MaxPooling2 (None, 14, 14, 32)        0         \n",
      "_________________________________________________________________\n",
      "conv2d_12 (Conv2D)           (None, 12, 12, 64)        18496     \n",
      "_________________________________________________________________\n",
      "leaky_re_lu_2 (LeakyReLU)    (None, 12, 12, 64)        0         \n",
      "_________________________________________________________________\n",
      "batch_normalization_15 (Batc (None, 12, 12, 64)        256       \n",
      "_________________________________________________________________\n",
      "conv2d_13 (Conv2D)           (None, 10, 10, 64)        36928     \n",
      "_________________________________________________________________\n",
      "leaky_re_lu_3 (LeakyReLU)    (None, 10, 10, 64)        0         \n",
      "_________________________________________________________________\n",
      "batch_normalization_16 (Batc (None, 10, 10, 64)        256       \n",
      "_________________________________________________________________\n",
      "max_pooling2d_7 (MaxPooling2 (None, 5, 5, 64)          0         \n",
      "_________________________________________________________________\n",
      "flatten_2 (Flatten)          (None, 1600)              0         \n",
      "_________________________________________________________________\n",
      "dropout_4 (Dropout)          (None, 1600)              0         \n",
      "_________________________________________________________________\n",
      "dense_4 (Dense)              (None, 384)               614784    \n",
      "_________________________________________________________________\n",
      "leaky_re_lu_4 (LeakyReLU)    (None, 384)               0         \n",
      "_________________________________________________________________\n",
      "dropout_5 (Dropout)          (None, 384)               0         \n",
      "_________________________________________________________________\n",
      "dense_5 (Dense)              (None, 3)                 1155      \n",
      "=================================================================\n",
      "Total params: 682,287\n",
      "Trainable params: 681,897\n",
      "Non-trainable params: 390\n",
      "_________________________________________________________________\n"
     ]
    }
   ],
   "source": [
    "model.summary()"
   ]
  },
  {
   "cell_type": "code",
   "execution_count": 28,
   "id": "structural-engineer",
   "metadata": {},
   "outputs": [],
   "source": [
    "## Building a custom function for learning rate decay/annealing\n",
    "def lr_decay(start, stop, div_step_1, div_step_2 = 2) :\n",
    "    k = 1\n",
    "    while start >= stop:\n",
    "        yield start\n",
    "        if k==1 :\n",
    "            start/= div_step_1\n",
    "        else : start/= div_step_2\n",
    "        k = k * -1"
   ]
  },
  {
   "cell_type": "code",
   "execution_count": 29,
   "id": "veterinary-pathology",
   "metadata": {},
   "outputs": [
    {
     "name": "stdout",
     "output_type": "stream",
     "text": [
      "Epoch 1/2\n",
      "Epoch 1/2\n",
      "498/498 [==============================] - 60s 121ms/step - loss: 1.2543 - accuracy: 0.5881 - val_loss: 0.7692 - val_accuracy: 0.6630\n",
      "498/498 [==============================] - 60s 121ms/step - loss: 1.2543 - accuracy: 0.5881 - val_loss: 0.7692 - val_accuracy: 0.6630\n",
      "Epoch 2/2\n",
      "  1/498 [..............................] - ETA: 0s - loss: 1.0499 - accuracy: 0.5312Epoch 2/2\n",
      "498/498 [==============================] - 60s 120ms/step - loss: 0.7756 - accuracy: 0.6652 - val_loss: 0.7032 - val_accuracy: 0.6931\n",
      "498/498 [==============================] - 60s 120ms/step - loss: 0.7756 - accuracy: 0.6652 - val_loss: 0.7032 - val_accuracy: 0.6931\n"
     ]
    },
    {
     "data": {
      "text/plain": [
       "<tensorflow.python.keras.callbacks.History at 0x7fd7dddaa590>"
      ]
     },
     "execution_count": 29,
     "metadata": {},
     "output_type": "execute_result"
    },
    {
     "data": {
      "text/plain": [
       "<tensorflow.python.keras.callbacks.History at 0x7fd7dddaa590>"
      ]
     },
     "execution_count": 29,
     "metadata": {},
     "output_type": "execute_result"
    }
   ],
   "source": [
    "# Training the model\n",
    "model.fit(X_train, y_train, batch_size=32, epochs=2, validation_split=0.2)\n"
   ]
  },
  {
   "cell_type": "code",
   "execution_count": 30,
   "id": "political-harvest",
   "metadata": {},
   "outputs": [],
   "source": [
    "model.optimizer.lr = model.optimizer.lr /10\n"
   ]
  },
  {
   "cell_type": "code",
   "execution_count": 31,
   "id": "bound-pattern",
   "metadata": {},
   "outputs": [],
   "source": [
    "## Saving weights as a form of model checkpointing\n",
    "model.save_weights('age-detection_weights.h5')"
   ]
  },
  {
   "cell_type": "code",
   "execution_count": 32,
   "id": "artistic-lingerie",
   "metadata": {},
   "outputs": [],
   "source": [
    "from sklearn.model_selection import train_test_split\n",
    "X_trn, X_valid, y_trn, y_valid = train_test_split(X_train, y_train, test_size = 0.2)"
   ]
  },
  {
   "cell_type": "code",
   "execution_count": 33,
   "id": "early-victory",
   "metadata": {},
   "outputs": [],
   "source": [
    "gen = image.ImageDataGenerator(rotation_range=15, width_shift_range=0.1, shear_range=0.25,\n",
    "                               height_shift_range=0.1, zoom_range=0.2, horizontal_flip = True)\n",
    "batches = gen.flow(X_trn, y_trn, batch_size = 64)\n",
    "val_batches = gen.flow(X_valid, y_valid, batch_size = 128)"
   ]
  },
  {
   "cell_type": "code",
   "execution_count": 34,
   "id": "stone-raleigh",
   "metadata": {},
   "outputs": [],
   "source": [
    "model.optimizer.lr = 0.001\n"
   ]
  },
  {
   "cell_type": "code",
   "execution_count": 35,
   "id": "close-programmer",
   "metadata": {},
   "outputs": [
    {
     "name": "stdout",
     "output_type": "stream",
     "text": [
      "WARNING:tensorflow:From <ipython-input-35-47d0ed01ab03>:2: Model.fit_generator (from tensorflow.python.keras.engine.training) is deprecated and will be removed in a future version.\n",
      "Instructions for updating:\n",
      "Please use Model.fit, which supports generators.\n",
      "WARNING:tensorflow:From <ipython-input-35-47d0ed01ab03>:2: Model.fit_generator (from tensorflow.python.keras.engine.training) is deprecated and will be removed in a future version.\n",
      "Instructions for updating:\n",
      "Please use Model.fit, which supports generators.\n",
      "248/248 [==============================] - 53s 214ms/step - loss: 0.7616 - accuracy: 0.6691 - val_loss: 0.7027 - val_accuracy: 0.6946\n",
      "248/248 [==============================] - 53s 214ms/step - loss: 0.7616 - accuracy: 0.6691 - val_loss: 0.7027 - val_accuracy: 0.6946\n"
     ]
    },
    {
     "data": {
      "text/plain": [
       "<tensorflow.python.keras.callbacks.History at 0x7fd7bf7849d0>"
      ]
     },
     "execution_count": 35,
     "metadata": {},
     "output_type": "execute_result"
    },
    {
     "data": {
      "text/plain": [
       "<tensorflow.python.keras.callbacks.History at 0x7fd7bf7849d0>"
      ]
     },
     "execution_count": 35,
     "metadata": {},
     "output_type": "execute_result"
    }
   ],
   "source": [
    "\n",
    "model.fit_generator(batches, (X_trn.shape[0]//batches.batch_size), epochs=1,\n",
    "                    validation_data = val_batches, validation_steps = (X_valid.shape[0]//val_batches.batch_size))"
   ]
  },
  {
   "cell_type": "code",
   "execution_count": 36,
   "id": "stone-brazil",
   "metadata": {},
   "outputs": [],
   "source": [
    "model.optimizer.lr = (1/10)"
   ]
  },
  {
   "cell_type": "code",
   "execution_count": 37,
   "id": "second-rabbit",
   "metadata": {},
   "outputs": [
    {
     "name": "stdout",
     "output_type": "stream",
     "text": [
      "Epoch 1/2\n",
      "Epoch 1/2\n",
      "248/248 [==============================] - 52s 211ms/step - loss: 1064.3918 - accuracy: 0.4207 - val_loss: 360.8619 - val_accuracy: 0.1296\n",
      "248/248 [==============================] - 52s 211ms/step - loss: 1064.3918 - accuracy: 0.4207 - val_loss: 360.8619 - val_accuracy: 0.1296\n",
      "Epoch 2/2\n",
      "Epoch 2/2\n",
      "248/248 [==============================] - 53s 213ms/step - loss: 23.2301 - accuracy: 0.4249 - val_loss: 4.4942 - val_accuracy: 0.5347\n",
      "248/248 [==============================] - 53s 213ms/step - loss: 23.2301 - accuracy: 0.4249 - val_loss: 4.4942 - val_accuracy: 0.5347\n"
     ]
    },
    {
     "data": {
      "text/plain": [
       "<tensorflow.python.keras.callbacks.History at 0x7fd7bf6bb610>"
      ]
     },
     "execution_count": 37,
     "metadata": {},
     "output_type": "execute_result"
    },
    {
     "data": {
      "text/plain": [
       "<tensorflow.python.keras.callbacks.History at 0x7fd7bf6bb610>"
      ]
     },
     "execution_count": 37,
     "metadata": {},
     "output_type": "execute_result"
    }
   ],
   "source": [
    "model.fit_generator(batches, steps_per_epoch = (X_trn.shape[0]//batches.batch_size), epochs=2,\n",
    "                    validation_data = val_batches, validation_steps = (X_valid.shape[0]/val_batches.batch_size))\n"
   ]
  },
  {
   "cell_type": "code",
   "execution_count": 38,
   "id": "south-pharmaceutical",
   "metadata": {},
   "outputs": [
    {
     "name": "stdout",
     "output_type": "stream",
     "text": [
      "Learning rate = 0.005\n",
      "Learning rate = 0.005\n",
      "248/248 [==============================] - 56s 226ms/step - loss: 4.0031 - accuracy: 0.4401 - val_loss: 1.6343 - val_accuracy: 0.5365\n",
      "248/248 [==============================] - 56s 226ms/step - loss: 4.0031 - accuracy: 0.4401 - val_loss: 1.6343 - val_accuracy: 0.5365\n",
      "Learning rate = 0.0025\n",
      "Learning rate = 0.0025\n",
      "248/248 [==============================] - 56s 227ms/step - loss: 2.3110 - accuracy: 0.4433 - val_loss: 1.5650 - val_accuracy: 0.5378\n",
      "248/248 [==============================] - 56s 227ms/step - loss: 2.3110 - accuracy: 0.4433 - val_loss: 1.5650 - val_accuracy: 0.5378\n",
      "Learning rate = 0.0005\n",
      "Learning rate = 0.0005\n",
      "248/248 [==============================] - 52s 211ms/step - loss: 1.9819 - accuracy: 0.4537 - val_loss: 1.3699 - val_accuracy: 0.5376\n",
      "248/248 [==============================] - 52s 211ms/step - loss: 1.9819 - accuracy: 0.4537 - val_loss: 1.3699 - val_accuracy: 0.5376\n",
      "Learning rate = 0.00025\n",
      "Learning rate = 0.00025\n",
      "248/248 [==============================] - 53s 214ms/step - loss: 1.9804 - accuracy: 0.4477 - val_loss: 1.2807 - val_accuracy: 0.5403\n",
      "248/248 [==============================] - 53s 214ms/step - loss: 1.9804 - accuracy: 0.4477 - val_loss: 1.2807 - val_accuracy: 0.5403\n"
     ]
    }
   ],
   "source": [
    "for i in lr_decay(0.005, 0.0002, 2, 5):\n",
    "    model.optimizer.lr = i\n",
    "    print(\"Learning rate = \" + str(i))\n",
    "    model.fit_generator(batches, (X_trn.shape[0]//batches.batch_size), epochs=1,\n",
    "                    validation_data = val_batches, validation_steps = (X_valid.shape[0]//val_batches.batch_size))"
   ]
  },
  {
   "cell_type": "code",
   "execution_count": 39,
   "id": "prescribed-beatles",
   "metadata": {},
   "outputs": [],
   "source": [
    "## Saving weights as a form of model checkpointing\n",
    "model.save_weights('leakyReLU_age-detection_weights.h5')"
   ]
  },
  {
   "cell_type": "code",
   "execution_count": 40,
   "id": "played-diesel",
   "metadata": {},
   "outputs": [],
   "source": [
    "from sklearn.model_selection import KFold, StratifiedKFold\n",
    "skf = StratifiedKFold(n_splits = 5, shuffle = True, random_state = 102)"
   ]
  },
  {
   "cell_type": "code",
   "execution_count": 41,
   "id": "relevant-peninsula",
   "metadata": {},
   "outputs": [
    {
     "ename": "ValueError",
     "evalue": "Supported target types are: ('binary', 'multiclass'). Got 'multilabel-indicator' instead.",
     "output_type": "error",
     "traceback": [
      "\u001b[0;31m---------------------------------------------------------------------------\u001b[0m",
      "\u001b[0;31mValueError\u001b[0m                                Traceback (most recent call last)",
      "\u001b[0;32m<ipython-input-41-1bb06a8b8e58>\u001b[0m in \u001b[0;36m<module>\u001b[0;34m\u001b[0m\n\u001b[0;32m----> 1\u001b[0;31m \u001b[0;32mfor\u001b[0m \u001b[0mtrain_idx\u001b[0m\u001b[0;34m,\u001b[0m \u001b[0mval_idx\u001b[0m \u001b[0;32min\u001b[0m \u001b[0mskf\u001b[0m\u001b[0;34m.\u001b[0m\u001b[0msplit\u001b[0m\u001b[0;34m(\u001b[0m\u001b[0mX_train\u001b[0m\u001b[0;34m,\u001b[0m\u001b[0my_train\u001b[0m\u001b[0;34m)\u001b[0m\u001b[0;34m:\u001b[0m\u001b[0;34m\u001b[0m\u001b[0;34m\u001b[0m\u001b[0m\n\u001b[0m\u001b[1;32m      2\u001b[0m     \u001b[0mprint\u001b[0m\u001b[0;34m(\u001b[0m\u001b[0;34m\"Fitting fold %d\"\u001b[0m \u001b[0;34m%\u001b[0m\u001b[0mfold_num\u001b[0m\u001b[0;34m)\u001b[0m\u001b[0;34m\u001b[0m\u001b[0;34m\u001b[0m\u001b[0m\n\u001b[1;32m      3\u001b[0m \u001b[0;34m\u001b[0m\u001b[0m\n\u001b[1;32m      4\u001b[0m     \u001b[0;31m# Data augmentation image generator\u001b[0m\u001b[0;34m\u001b[0m\u001b[0;34m\u001b[0m\u001b[0;34m\u001b[0m\u001b[0m\n\u001b[1;32m      5\u001b[0m     gen = image.ImageDataGenerator(rotation_range=15, width_shift_range=0.1, shear_range=0.25,\n",
      "\u001b[0;32m~/anaconda3/lib/python3.7/site-packages/sklearn/model_selection/_split.py\u001b[0m in \u001b[0;36msplit\u001b[0;34m(self, X, y, groups)\u001b[0m\n\u001b[1;32m    334\u001b[0m                 .format(self.n_splits, n_samples))\n\u001b[1;32m    335\u001b[0m \u001b[0;34m\u001b[0m\u001b[0m\n\u001b[0;32m--> 336\u001b[0;31m         \u001b[0;32mfor\u001b[0m \u001b[0mtrain\u001b[0m\u001b[0;34m,\u001b[0m \u001b[0mtest\u001b[0m \u001b[0;32min\u001b[0m \u001b[0msuper\u001b[0m\u001b[0;34m(\u001b[0m\u001b[0;34m)\u001b[0m\u001b[0;34m.\u001b[0m\u001b[0msplit\u001b[0m\u001b[0;34m(\u001b[0m\u001b[0mX\u001b[0m\u001b[0;34m,\u001b[0m \u001b[0my\u001b[0m\u001b[0;34m,\u001b[0m \u001b[0mgroups\u001b[0m\u001b[0;34m)\u001b[0m\u001b[0;34m:\u001b[0m\u001b[0;34m\u001b[0m\u001b[0;34m\u001b[0m\u001b[0m\n\u001b[0m\u001b[1;32m    337\u001b[0m             \u001b[0;32myield\u001b[0m \u001b[0mtrain\u001b[0m\u001b[0;34m,\u001b[0m \u001b[0mtest\u001b[0m\u001b[0;34m\u001b[0m\u001b[0;34m\u001b[0m\u001b[0m\n\u001b[1;32m    338\u001b[0m \u001b[0;34m\u001b[0m\u001b[0m\n",
      "\u001b[0;32m~/anaconda3/lib/python3.7/site-packages/sklearn/model_selection/_split.py\u001b[0m in \u001b[0;36msplit\u001b[0;34m(self, X, y, groups)\u001b[0m\n\u001b[1;32m     78\u001b[0m         \u001b[0mX\u001b[0m\u001b[0;34m,\u001b[0m \u001b[0my\u001b[0m\u001b[0;34m,\u001b[0m \u001b[0mgroups\u001b[0m \u001b[0;34m=\u001b[0m \u001b[0mindexable\u001b[0m\u001b[0;34m(\u001b[0m\u001b[0mX\u001b[0m\u001b[0;34m,\u001b[0m \u001b[0my\u001b[0m\u001b[0;34m,\u001b[0m \u001b[0mgroups\u001b[0m\u001b[0;34m)\u001b[0m\u001b[0;34m\u001b[0m\u001b[0;34m\u001b[0m\u001b[0m\n\u001b[1;32m     79\u001b[0m         \u001b[0mindices\u001b[0m \u001b[0;34m=\u001b[0m \u001b[0mnp\u001b[0m\u001b[0;34m.\u001b[0m\u001b[0marange\u001b[0m\u001b[0;34m(\u001b[0m\u001b[0m_num_samples\u001b[0m\u001b[0;34m(\u001b[0m\u001b[0mX\u001b[0m\u001b[0;34m)\u001b[0m\u001b[0;34m)\u001b[0m\u001b[0;34m\u001b[0m\u001b[0;34m\u001b[0m\u001b[0m\n\u001b[0;32m---> 80\u001b[0;31m         \u001b[0;32mfor\u001b[0m \u001b[0mtest_index\u001b[0m \u001b[0;32min\u001b[0m \u001b[0mself\u001b[0m\u001b[0;34m.\u001b[0m\u001b[0m_iter_test_masks\u001b[0m\u001b[0;34m(\u001b[0m\u001b[0mX\u001b[0m\u001b[0;34m,\u001b[0m \u001b[0my\u001b[0m\u001b[0;34m,\u001b[0m \u001b[0mgroups\u001b[0m\u001b[0;34m)\u001b[0m\u001b[0;34m:\u001b[0m\u001b[0;34m\u001b[0m\u001b[0;34m\u001b[0m\u001b[0m\n\u001b[0m\u001b[1;32m     81\u001b[0m             \u001b[0mtrain_index\u001b[0m \u001b[0;34m=\u001b[0m \u001b[0mindices\u001b[0m\u001b[0;34m[\u001b[0m\u001b[0mnp\u001b[0m\u001b[0;34m.\u001b[0m\u001b[0mlogical_not\u001b[0m\u001b[0;34m(\u001b[0m\u001b[0mtest_index\u001b[0m\u001b[0;34m)\u001b[0m\u001b[0;34m]\u001b[0m\u001b[0;34m\u001b[0m\u001b[0;34m\u001b[0m\u001b[0m\n\u001b[1;32m     82\u001b[0m             \u001b[0mtest_index\u001b[0m \u001b[0;34m=\u001b[0m \u001b[0mindices\u001b[0m\u001b[0;34m[\u001b[0m\u001b[0mtest_index\u001b[0m\u001b[0;34m]\u001b[0m\u001b[0;34m\u001b[0m\u001b[0;34m\u001b[0m\u001b[0m\n",
      "\u001b[0;32m~/anaconda3/lib/python3.7/site-packages/sklearn/model_selection/_split.py\u001b[0m in \u001b[0;36m_iter_test_masks\u001b[0;34m(self, X, y, groups)\u001b[0m\n\u001b[1;32m    695\u001b[0m \u001b[0;34m\u001b[0m\u001b[0m\n\u001b[1;32m    696\u001b[0m     \u001b[0;32mdef\u001b[0m \u001b[0m_iter_test_masks\u001b[0m\u001b[0;34m(\u001b[0m\u001b[0mself\u001b[0m\u001b[0;34m,\u001b[0m \u001b[0mX\u001b[0m\u001b[0;34m,\u001b[0m \u001b[0my\u001b[0m\u001b[0;34m=\u001b[0m\u001b[0;32mNone\u001b[0m\u001b[0;34m,\u001b[0m \u001b[0mgroups\u001b[0m\u001b[0;34m=\u001b[0m\u001b[0;32mNone\u001b[0m\u001b[0;34m)\u001b[0m\u001b[0;34m:\u001b[0m\u001b[0;34m\u001b[0m\u001b[0;34m\u001b[0m\u001b[0m\n\u001b[0;32m--> 697\u001b[0;31m         \u001b[0mtest_folds\u001b[0m \u001b[0;34m=\u001b[0m \u001b[0mself\u001b[0m\u001b[0;34m.\u001b[0m\u001b[0m_make_test_folds\u001b[0m\u001b[0;34m(\u001b[0m\u001b[0mX\u001b[0m\u001b[0;34m,\u001b[0m \u001b[0my\u001b[0m\u001b[0;34m)\u001b[0m\u001b[0;34m\u001b[0m\u001b[0;34m\u001b[0m\u001b[0m\n\u001b[0m\u001b[1;32m    698\u001b[0m         \u001b[0;32mfor\u001b[0m \u001b[0mi\u001b[0m \u001b[0;32min\u001b[0m \u001b[0mrange\u001b[0m\u001b[0;34m(\u001b[0m\u001b[0mself\u001b[0m\u001b[0;34m.\u001b[0m\u001b[0mn_splits\u001b[0m\u001b[0;34m)\u001b[0m\u001b[0;34m:\u001b[0m\u001b[0;34m\u001b[0m\u001b[0;34m\u001b[0m\u001b[0m\n\u001b[1;32m    699\u001b[0m             \u001b[0;32myield\u001b[0m \u001b[0mtest_folds\u001b[0m \u001b[0;34m==\u001b[0m \u001b[0mi\u001b[0m\u001b[0;34m\u001b[0m\u001b[0;34m\u001b[0m\u001b[0m\n",
      "\u001b[0;32m~/anaconda3/lib/python3.7/site-packages/sklearn/model_selection/_split.py\u001b[0m in \u001b[0;36m_make_test_folds\u001b[0;34m(self, X, y)\u001b[0m\n\u001b[1;32m    649\u001b[0m             raise ValueError(\n\u001b[1;32m    650\u001b[0m                 'Supported target types are: {}. Got {!r} instead.'.format(\n\u001b[0;32m--> 651\u001b[0;31m                     allowed_target_types, type_of_target_y))\n\u001b[0m\u001b[1;32m    652\u001b[0m \u001b[0;34m\u001b[0m\u001b[0m\n\u001b[1;32m    653\u001b[0m         \u001b[0my\u001b[0m \u001b[0;34m=\u001b[0m \u001b[0mcolumn_or_1d\u001b[0m\u001b[0;34m(\u001b[0m\u001b[0my\u001b[0m\u001b[0;34m)\u001b[0m\u001b[0;34m\u001b[0m\u001b[0;34m\u001b[0m\u001b[0m\n",
      "\u001b[0;31mValueError\u001b[0m: Supported target types are: ('binary', 'multiclass'). Got 'multilabel-indicator' instead."
     ]
    },
    {
     "ename": "ValueError",
     "evalue": "Supported target types are: ('binary', 'multiclass'). Got 'multilabel-indicator' instead.",
     "output_type": "error",
     "traceback": [
      "\u001b[0;31m---------------------------------------------------------------------------\u001b[0m",
      "\u001b[0;31mValueError\u001b[0m                                Traceback (most recent call last)",
      "\u001b[0;32m<ipython-input-41-1bb06a8b8e58>\u001b[0m in \u001b[0;36m<module>\u001b[0;34m\u001b[0m\n\u001b[0;32m----> 1\u001b[0;31m \u001b[0;32mfor\u001b[0m \u001b[0mtrain_idx\u001b[0m\u001b[0;34m,\u001b[0m \u001b[0mval_idx\u001b[0m \u001b[0;32min\u001b[0m \u001b[0mskf\u001b[0m\u001b[0;34m.\u001b[0m\u001b[0msplit\u001b[0m\u001b[0;34m(\u001b[0m\u001b[0mX_train\u001b[0m\u001b[0;34m,\u001b[0m\u001b[0my_train\u001b[0m\u001b[0;34m)\u001b[0m\u001b[0;34m:\u001b[0m\u001b[0;34m\u001b[0m\u001b[0;34m\u001b[0m\u001b[0m\n\u001b[0m\u001b[1;32m      2\u001b[0m     \u001b[0mprint\u001b[0m\u001b[0;34m(\u001b[0m\u001b[0;34m\"Fitting fold %d\"\u001b[0m \u001b[0;34m%\u001b[0m\u001b[0mfold_num\u001b[0m\u001b[0;34m)\u001b[0m\u001b[0;34m\u001b[0m\u001b[0;34m\u001b[0m\u001b[0m\n\u001b[1;32m      3\u001b[0m \u001b[0;34m\u001b[0m\u001b[0m\n\u001b[1;32m      4\u001b[0m     \u001b[0;31m# Data augmentation image generator\u001b[0m\u001b[0;34m\u001b[0m\u001b[0;34m\u001b[0m\u001b[0;34m\u001b[0m\u001b[0m\n\u001b[1;32m      5\u001b[0m     gen = image.ImageDataGenerator(rotation_range=15, width_shift_range=0.1, shear_range=0.25,\n",
      "\u001b[0;32m~/anaconda3/lib/python3.7/site-packages/sklearn/model_selection/_split.py\u001b[0m in \u001b[0;36msplit\u001b[0;34m(self, X, y, groups)\u001b[0m\n\u001b[1;32m    334\u001b[0m                 .format(self.n_splits, n_samples))\n\u001b[1;32m    335\u001b[0m \u001b[0;34m\u001b[0m\u001b[0m\n\u001b[0;32m--> 336\u001b[0;31m         \u001b[0;32mfor\u001b[0m \u001b[0mtrain\u001b[0m\u001b[0;34m,\u001b[0m \u001b[0mtest\u001b[0m \u001b[0;32min\u001b[0m \u001b[0msuper\u001b[0m\u001b[0;34m(\u001b[0m\u001b[0;34m)\u001b[0m\u001b[0;34m.\u001b[0m\u001b[0msplit\u001b[0m\u001b[0;34m(\u001b[0m\u001b[0mX\u001b[0m\u001b[0;34m,\u001b[0m \u001b[0my\u001b[0m\u001b[0;34m,\u001b[0m \u001b[0mgroups\u001b[0m\u001b[0;34m)\u001b[0m\u001b[0;34m:\u001b[0m\u001b[0;34m\u001b[0m\u001b[0;34m\u001b[0m\u001b[0m\n\u001b[0m\u001b[1;32m    337\u001b[0m             \u001b[0;32myield\u001b[0m \u001b[0mtrain\u001b[0m\u001b[0;34m,\u001b[0m \u001b[0mtest\u001b[0m\u001b[0;34m\u001b[0m\u001b[0;34m\u001b[0m\u001b[0m\n\u001b[1;32m    338\u001b[0m \u001b[0;34m\u001b[0m\u001b[0m\n",
      "\u001b[0;32m~/anaconda3/lib/python3.7/site-packages/sklearn/model_selection/_split.py\u001b[0m in \u001b[0;36msplit\u001b[0;34m(self, X, y, groups)\u001b[0m\n\u001b[1;32m     78\u001b[0m         \u001b[0mX\u001b[0m\u001b[0;34m,\u001b[0m \u001b[0my\u001b[0m\u001b[0;34m,\u001b[0m \u001b[0mgroups\u001b[0m \u001b[0;34m=\u001b[0m \u001b[0mindexable\u001b[0m\u001b[0;34m(\u001b[0m\u001b[0mX\u001b[0m\u001b[0;34m,\u001b[0m \u001b[0my\u001b[0m\u001b[0;34m,\u001b[0m \u001b[0mgroups\u001b[0m\u001b[0;34m)\u001b[0m\u001b[0;34m\u001b[0m\u001b[0;34m\u001b[0m\u001b[0m\n\u001b[1;32m     79\u001b[0m         \u001b[0mindices\u001b[0m \u001b[0;34m=\u001b[0m \u001b[0mnp\u001b[0m\u001b[0;34m.\u001b[0m\u001b[0marange\u001b[0m\u001b[0;34m(\u001b[0m\u001b[0m_num_samples\u001b[0m\u001b[0;34m(\u001b[0m\u001b[0mX\u001b[0m\u001b[0;34m)\u001b[0m\u001b[0;34m)\u001b[0m\u001b[0;34m\u001b[0m\u001b[0;34m\u001b[0m\u001b[0m\n\u001b[0;32m---> 80\u001b[0;31m         \u001b[0;32mfor\u001b[0m \u001b[0mtest_index\u001b[0m \u001b[0;32min\u001b[0m \u001b[0mself\u001b[0m\u001b[0;34m.\u001b[0m\u001b[0m_iter_test_masks\u001b[0m\u001b[0;34m(\u001b[0m\u001b[0mX\u001b[0m\u001b[0;34m,\u001b[0m \u001b[0my\u001b[0m\u001b[0;34m,\u001b[0m \u001b[0mgroups\u001b[0m\u001b[0;34m)\u001b[0m\u001b[0;34m:\u001b[0m\u001b[0;34m\u001b[0m\u001b[0;34m\u001b[0m\u001b[0m\n\u001b[0m\u001b[1;32m     81\u001b[0m             \u001b[0mtrain_index\u001b[0m \u001b[0;34m=\u001b[0m \u001b[0mindices\u001b[0m\u001b[0;34m[\u001b[0m\u001b[0mnp\u001b[0m\u001b[0;34m.\u001b[0m\u001b[0mlogical_not\u001b[0m\u001b[0;34m(\u001b[0m\u001b[0mtest_index\u001b[0m\u001b[0;34m)\u001b[0m\u001b[0;34m]\u001b[0m\u001b[0;34m\u001b[0m\u001b[0;34m\u001b[0m\u001b[0m\n\u001b[1;32m     82\u001b[0m             \u001b[0mtest_index\u001b[0m \u001b[0;34m=\u001b[0m \u001b[0mindices\u001b[0m\u001b[0;34m[\u001b[0m\u001b[0mtest_index\u001b[0m\u001b[0;34m]\u001b[0m\u001b[0;34m\u001b[0m\u001b[0;34m\u001b[0m\u001b[0m\n",
      "\u001b[0;32m~/anaconda3/lib/python3.7/site-packages/sklearn/model_selection/_split.py\u001b[0m in \u001b[0;36m_iter_test_masks\u001b[0;34m(self, X, y, groups)\u001b[0m\n\u001b[1;32m    695\u001b[0m \u001b[0;34m\u001b[0m\u001b[0m\n\u001b[1;32m    696\u001b[0m     \u001b[0;32mdef\u001b[0m \u001b[0m_iter_test_masks\u001b[0m\u001b[0;34m(\u001b[0m\u001b[0mself\u001b[0m\u001b[0;34m,\u001b[0m \u001b[0mX\u001b[0m\u001b[0;34m,\u001b[0m \u001b[0my\u001b[0m\u001b[0;34m=\u001b[0m\u001b[0;32mNone\u001b[0m\u001b[0;34m,\u001b[0m \u001b[0mgroups\u001b[0m\u001b[0;34m=\u001b[0m\u001b[0;32mNone\u001b[0m\u001b[0;34m)\u001b[0m\u001b[0;34m:\u001b[0m\u001b[0;34m\u001b[0m\u001b[0;34m\u001b[0m\u001b[0m\n\u001b[0;32m--> 697\u001b[0;31m         \u001b[0mtest_folds\u001b[0m \u001b[0;34m=\u001b[0m \u001b[0mself\u001b[0m\u001b[0;34m.\u001b[0m\u001b[0m_make_test_folds\u001b[0m\u001b[0;34m(\u001b[0m\u001b[0mX\u001b[0m\u001b[0;34m,\u001b[0m \u001b[0my\u001b[0m\u001b[0;34m)\u001b[0m\u001b[0;34m\u001b[0m\u001b[0;34m\u001b[0m\u001b[0m\n\u001b[0m\u001b[1;32m    698\u001b[0m         \u001b[0;32mfor\u001b[0m \u001b[0mi\u001b[0m \u001b[0;32min\u001b[0m \u001b[0mrange\u001b[0m\u001b[0;34m(\u001b[0m\u001b[0mself\u001b[0m\u001b[0;34m.\u001b[0m\u001b[0mn_splits\u001b[0m\u001b[0;34m)\u001b[0m\u001b[0;34m:\u001b[0m\u001b[0;34m\u001b[0m\u001b[0;34m\u001b[0m\u001b[0m\n\u001b[1;32m    699\u001b[0m             \u001b[0;32myield\u001b[0m \u001b[0mtest_folds\u001b[0m \u001b[0;34m==\u001b[0m \u001b[0mi\u001b[0m\u001b[0;34m\u001b[0m\u001b[0;34m\u001b[0m\u001b[0m\n",
      "\u001b[0;32m~/anaconda3/lib/python3.7/site-packages/sklearn/model_selection/_split.py\u001b[0m in \u001b[0;36m_make_test_folds\u001b[0;34m(self, X, y)\u001b[0m\n\u001b[1;32m    649\u001b[0m             raise ValueError(\n\u001b[1;32m    650\u001b[0m                 'Supported target types are: {}. Got {!r} instead.'.format(\n\u001b[0;32m--> 651\u001b[0;31m                     allowed_target_types, type_of_target_y))\n\u001b[0m\u001b[1;32m    652\u001b[0m \u001b[0;34m\u001b[0m\u001b[0m\n\u001b[1;32m    653\u001b[0m         \u001b[0my\u001b[0m \u001b[0;34m=\u001b[0m \u001b[0mcolumn_or_1d\u001b[0m\u001b[0;34m(\u001b[0m\u001b[0my\u001b[0m\u001b[0;34m)\u001b[0m\u001b[0;34m\u001b[0m\u001b[0;34m\u001b[0m\u001b[0m\n",
      "\u001b[0;31mValueError\u001b[0m: Supported target types are: ('binary', 'multiclass'). Got 'multilabel-indicator' instead."
     ]
    }
   ],
   "source": [
    "for train_idx, val_idx in skf.split(X_train,y_train):\n",
    "    print(\"Fitting fold %d\" %fold_num)\n",
    "    \n",
    "    # Data augmentation image generator\n",
    "    gen = image.ImageDataGenerator(rotation_range=15, width_shift_range=0.1, shear_range=0.25,\n",
    "                               height_shift_range=0.1, zoom_range=0.2, horizontal_flip = True)\n",
    "    batches = gen.flow(X_train[train_idx], y_train[train_idx], batch_size = 32)\n",
    "    val_batches = gen.flow(X_train[val_idx], y_train[val_idx], batch_size = 64)\n",
    "    \n",
    "    # Fitting the model\n",
    "    model.fit_generator(batches, steps_per_epoch = (X_trn.shape[0]//batches.batch_size), epochs=3,\n",
    "                    validation_data = val_batches, validation_steps = (X_valid.shape[0]//val_batches.batch_size))\n",
    "    \n",
    "    # Recompiling the model with initial weights\n",
    "    model.load_weights('initial_weights.h5')\n",
    "    \n",
    "    fold_num += 1\n"
   ]
  },
  {
   "cell_type": "code",
   "execution_count": 42,
   "id": "reduced-danish",
   "metadata": {},
   "outputs": [],
   "source": [
    "## Building the autoencoder pipeline\n",
    "\n",
    "input_img = Input(shape=(32, 32, 3))\n",
    "x = Conv2D(32, (3, 3), activation='relu', padding='same')(input_img)\n",
    "x = MaxPooling2D((2, 2), padding='same')(x)\n",
    "x = Conv2D(16, (3, 3), activation='relu', padding='same')(x)\n",
    "x = MaxPooling2D((2, 2), padding='same')(x)\n",
    "x = Conv2D(8, (3, 3), activation='relu', padding='same')(x)\n",
    "encoded = MaxPooling2D((2, 2), padding='same')(x)\n",
    "\n",
    "# at this point the representation is (8, 4, 4, 3) i.e. 384-dimensional\n",
    "\n",
    "x = Conv2D(8, (3, 3), activation='relu', padding='same')(encoded)\n",
    "x = UpSampling2D((2, 2))(x)\n",
    "x = Conv2D(16, (3, 3), activation='relu', padding='same')(x)\n",
    "x = UpSampling2D((2, 2))(x)\n",
    "x = Conv2D(32, (3, 3), activation='relu', padding = 'same')(x)\n",
    "x = UpSampling2D((2, 2))(x)\n",
    "decoded = Conv2D(3, (3, 3), activation='sigmoid', padding='same')(x)"
   ]
  },
  {
   "cell_type": "code",
   "execution_count": 43,
   "id": "impossible-career",
   "metadata": {},
   "outputs": [],
   "source": [
    "\n",
    "## Composing the autoencoder model and compiling it\n",
    "autoencoder = Model(input_img, decoded)\n",
    "autoencoder.compile(optimizer='adadelta', loss='binary_crossentropy') # can change optimizer to 'adam'"
   ]
  },
  {
   "cell_type": "code",
   "execution_count": 44,
   "id": "lasting-poster",
   "metadata": {},
   "outputs": [
    {
     "name": "stdout",
     "output_type": "stream",
     "text": [
      "Model: \"model\"\n",
      "_________________________________________________________________\n",
      "Layer (type)                 Output Shape              Param #   \n",
      "=================================================================\n",
      "input_1 (InputLayer)         [(None, 32, 32, 3)]       0         \n",
      "_________________________________________________________________\n",
      "conv2d_14 (Conv2D)           (None, 32, 32, 32)        896       \n",
      "_________________________________________________________________\n",
      "max_pooling2d_8 (MaxPooling2 (None, 16, 16, 32)        0         \n",
      "_________________________________________________________________\n",
      "conv2d_15 (Conv2D)           (None, 16, 16, 16)        4624      \n",
      "_________________________________________________________________\n",
      "max_pooling2d_9 (MaxPooling2 (None, 8, 8, 16)          0         \n",
      "_________________________________________________________________\n",
      "conv2d_16 (Conv2D)           (None, 8, 8, 8)           1160      \n",
      "_________________________________________________________________\n",
      "max_pooling2d_10 (MaxPooling (None, 4, 4, 8)           0         \n",
      "_________________________________________________________________\n",
      "conv2d_17 (Conv2D)           (None, 4, 4, 8)           584       \n",
      "_________________________________________________________________\n",
      "up_sampling2d (UpSampling2D) (None, 8, 8, 8)           0         \n",
      "_________________________________________________________________\n",
      "conv2d_18 (Conv2D)           (None, 8, 8, 16)          1168      \n",
      "_________________________________________________________________\n",
      "up_sampling2d_1 (UpSampling2 (None, 16, 16, 16)        0         \n",
      "_________________________________________________________________\n",
      "conv2d_19 (Conv2D)           (None, 16, 16, 32)        4640      \n",
      "_________________________________________________________________\n",
      "up_sampling2d_2 (UpSampling2 (None, 32, 32, 32)        0         \n",
      "_________________________________________________________________\n",
      "conv2d_20 (Conv2D)           (None, 32, 32, 3)         867       \n",
      "=================================================================\n",
      "Total params: 13,939\n",
      "Trainable params: 13,939\n",
      "Non-trainable params: 0\n",
      "_________________________________________________________________\n",
      "Model: \"model\"\n",
      "_________________________________________________________________\n",
      "Layer (type)                 Output Shape              Param #   \n",
      "=================================================================\n",
      "input_1 (InputLayer)         [(None, 32, 32, 3)]       0         \n",
      "_________________________________________________________________\n",
      "conv2d_14 (Conv2D)           (None, 32, 32, 32)        896       \n",
      "_________________________________________________________________\n",
      "max_pooling2d_8 (MaxPooling2 (None, 16, 16, 32)        0         \n",
      "_________________________________________________________________\n",
      "conv2d_15 (Conv2D)           (None, 16, 16, 16)        4624      \n",
      "_________________________________________________________________\n",
      "max_pooling2d_9 (MaxPooling2 (None, 8, 8, 16)          0         \n",
      "_________________________________________________________________\n",
      "conv2d_16 (Conv2D)           (None, 8, 8, 8)           1160      \n",
      "_________________________________________________________________\n",
      "max_pooling2d_10 (MaxPooling (None, 4, 4, 8)           0         \n",
      "_________________________________________________________________\n",
      "conv2d_17 (Conv2D)           (None, 4, 4, 8)           584       \n",
      "_________________________________________________________________\n",
      "up_sampling2d (UpSampling2D) (None, 8, 8, 8)           0         \n",
      "_________________________________________________________________\n",
      "conv2d_18 (Conv2D)           (None, 8, 8, 16)          1168      \n",
      "_________________________________________________________________\n",
      "up_sampling2d_1 (UpSampling2 (None, 16, 16, 16)        0         \n",
      "_________________________________________________________________\n",
      "conv2d_19 (Conv2D)           (None, 16, 16, 32)        4640      \n",
      "_________________________________________________________________\n",
      "up_sampling2d_2 (UpSampling2 (None, 32, 32, 32)        0         \n",
      "_________________________________________________________________\n",
      "conv2d_20 (Conv2D)           (None, 32, 32, 3)         867       \n",
      "=================================================================\n",
      "Total params: 13,939\n",
      "Trainable params: 13,939\n",
      "Non-trainable params: 0\n",
      "_________________________________________________________________\n"
     ]
    }
   ],
   "source": [
    "autoencoder.summary()\n"
   ]
  },
  {
   "cell_type": "code",
   "execution_count": 45,
   "id": "expired-personal",
   "metadata": {},
   "outputs": [],
   "source": [
    "from keras.callbacks import TensorBoard\n"
   ]
  },
  {
   "cell_type": "code",
   "execution_count": null,
   "id": "under-listing",
   "metadata": {},
   "outputs": [
    {
     "name": "stdout",
     "output_type": "stream",
     "text": [
      "Epoch 1/10\n",
      "Epoch 1/10\n",
      "312/312 [==============================] - 45s 145ms/step - loss: 0.6935 - val_loss: 0.6934\n",
      "312/312 [==============================] - 45s 145ms/step - loss: 0.6935 - val_loss: 0.6934\n",
      "Epoch 2/10\n",
      "  1/312 [..............................] - ETA: 0s - loss: 0.6933Epoch 2/10\n",
      "270/312 [========================>.....] - ETA: 5s - loss: 0.6932"
     ]
    }
   ],
   "source": [
    "## Fitting the autoencoder model\n",
    "autoencoder.fit(X_train, X_train,\n",
    "                epochs= 10,\n",
    "                batch_size= 64,\n",
    "                shuffle= True,\n",
    "                validation_data= (X_test, X_test))\n",
    "                #callbacks=[TensorBoard(log_dir='/tmp/autoencoder')])"
   ]
  },
  {
   "cell_type": "code",
   "execution_count": null,
   "id": "geographic-myanmar",
   "metadata": {},
   "outputs": [],
   "source": [
    "autoencoder.fit(X_train, X_train,\n",
    "                epochs= 3,\n",
    "                batch_size= 128,\n",
    "                shuffle= True,\n",
    "                validation_data= (X_test, X_test))"
   ]
  },
  {
   "cell_type": "code",
   "execution_count": null,
   "id": "talented-harbor",
   "metadata": {},
   "outputs": [],
   "source": [
    "decoded_imgs = autoencoder.predict(X_test)\n"
   ]
  },
  {
   "cell_type": "code",
   "execution_count": null,
   "id": "urban-pharmaceutical",
   "metadata": {},
   "outputs": [],
   "source": [
    "predictions = model.predict(X_test)\n",
    "predictions = np.argmax(predictions, axis= 1)"
   ]
  },
  {
   "cell_type": "code",
   "execution_count": null,
   "id": "built-donor",
   "metadata": {},
   "outputs": [],
   "source": [
    "# Converting predicted category numbers to predicted labels\n",
    "unique_labels = np.unique(train['Class'].tolist())\n",
    "pred_labels = unique_labels[predictions]"
   ]
  },
  {
   "cell_type": "code",
   "execution_count": null,
   "id": "electrical-johnson",
   "metadata": {},
   "outputs": [],
   "source": [
    "## Let's see what our classifier predicts on test images\n",
    "# Random predictions\n",
    "i = np.random.choice(np.arange(len(test_data)))\n",
    "plt.title('{} - Predicted class : {}'.format(test['ID'].values[i], pred_labels[i]))\n",
    "plt.imshow(test_data[i])"
   ]
  },
  {
   "cell_type": "code",
   "execution_count": null,
   "id": "mounted-clothing",
   "metadata": {},
   "outputs": [],
   "source": [
    "subm = pd.DataFrame({'Class':pred_labels, 'ID':test.ID})\n",
    "subm.to_csv('sub03_2_leakyReLU.csv', index=False)"
   ]
  },
  {
   "cell_type": "code",
   "execution_count": null,
   "id": "scientific-stupid",
   "metadata": {},
   "outputs": [],
   "source": [
    "subm"
   ]
  },
  {
   "cell_type": "code",
   "execution_count": null,
   "id": "moral-criminal",
   "metadata": {},
   "outputs": [],
   "source": []
  }
 ],
 "metadata": {
  "kernelspec": {
   "display_name": "Python 3",
   "language": "python",
   "name": "python3"
  },
  "language_info": {
   "codemirror_mode": {
    "name": "ipython",
    "version": 3
   },
   "file_extension": ".py",
   "mimetype": "text/x-python",
   "name": "python",
   "nbconvert_exporter": "python",
   "pygments_lexer": "ipython3",
   "version": "3.7.6"
  }
 },
 "nbformat": 4,
 "nbformat_minor": 5
}
